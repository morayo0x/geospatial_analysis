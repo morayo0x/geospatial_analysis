{
 "cells": [
  {
   "cell_type": "markdown",
   "metadata": {},
   "source": [
    "# Geospatial Data Analysis\n",
    "\n",
    "This repository is based on Kaggle micro-course on geospatial data analysis and visualization using the *GeoPandas* library.\n",
    "\n",
    "### GeoPandas\n",
    "\n",
    "It is an open sourse library for manipulating geospatial data (viewed as geometric object) using Python. It makes this possible by extending the Pandas library for operations on geometric object.\n",
    "\n",
    "> it considers only cartesian plane *objects* such as point, curve, and a polygon as valid. Hence, a three dimensional representation of the data in a cartesian plane is considered invalid or more precisely, ignored in the analysis of the spatial data\n",
    "\n",
    "Underneath, it depends on two important library:\n",
    "- shapely: used for the \"analysis and manipulation of geometric objects on Cartesian plane (two-dimensional) through set-theoretic operations such as (union, intersections, complements, differences e.t.c.)\"\n",
    "\n",
    "- fiona: \n",
    "\n",
    "-- -\n",
    "\n",
    "## Shapely\n",
    "The geometric objects types used in shapely are:\n",
    "- point implemented by the Point class\n",
    "- collection of points is implemented by the MultiPoint class\n",
    "\n",
    "- Curve implemented by the LineString class\n",
    "- collection of points is implemented by the MultiLineString class\n",
    "\n",
    "- Surface implemented by the Polygon class\n",
    "- collection of surface is implemented by the MultiPolygon class\n",
    "\n",
    "\n",
    "> it is important to note that there are no smooth (or continous) curve in shapely"
   ]
  }
 ],
 "metadata": {
  "kernelspec": {
   "display_name": "Python 3",
   "language": "python",
   "name": "python3"
  },
  "language_info": {
   "codemirror_mode": {
    "name": "ipython",
    "version": 3
   },
   "file_extension": ".py",
   "mimetype": "text/x-python",
   "name": "python",
   "nbconvert_exporter": "python",
   "pygments_lexer": "ipython3",
   "version": "3.10.12"
  }
 },
 "nbformat": 4,
 "nbformat_minor": 2
}
