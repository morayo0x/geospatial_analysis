{
 "cells": [
  {
   "cell_type": "markdown",
   "metadata": {},
   "source": [
    "# Geospatial Data Analysis\n",
    "\n",
    "This repository is based on Kaggle micro-course on geospatial data analysis and visualization using the *GeoPandas* library.\n"
   ]
  },
  {
   "cell_type": "code",
   "execution_count": 2,
   "metadata": {},
   "outputs": [],
   "source": [
    "import pandas as pd\n",
    "import geopandas as gpd\n",
    "import matplotlib.pyplot as plt\n",
    "import fiona\n",
    "import pyogrio"
   ]
  },
  {
   "cell_type": "markdown",
   "metadata": {},
   "source": [
    "### An Important Note of Warning\n",
    "A .shp file extension must have its .shx, .prj or dbf in one folder. Otherwise, the geopandas engine responsible for reading a GIS file format will return an error when called.\n",
    "\n",
    "> e.g. suppose the name of the file is data.shp, then its data.dbf and/or data.shx and/or data.prj must be located in the same folder"
   ]
  },
  {
   "cell_type": "code",
   "execution_count": 3,
   "metadata": {},
   "outputs": [
    {
     "data": {
      "text/html": [
       "<div>\n",
       "<style scoped>\n",
       "    .dataframe tbody tr th:only-of-type {\n",
       "        vertical-align: middle;\n",
       "    }\n",
       "\n",
       "    .dataframe tbody tr th {\n",
       "        vertical-align: top;\n",
       "    }\n",
       "\n",
       "    .dataframe thead th {\n",
       "        text-align: right;\n",
       "    }\n",
       "</style>\n",
       "<table border=\"1\" class=\"dataframe\">\n",
       "  <thead>\n",
       "    <tr style=\"text-align: right;\">\n",
       "      <th></th>\n",
       "      <th>CATEGORY</th>\n",
       "      <th>UNIT</th>\n",
       "      <th>FACILITY</th>\n",
       "      <th>CLASS</th>\n",
       "      <th>UMP</th>\n",
       "      <th>DESCRIPTIO</th>\n",
       "      <th>REGION</th>\n",
       "      <th>COUNTY</th>\n",
       "      <th>URL</th>\n",
       "      <th>SOURCE</th>\n",
       "      <th>UPDATE_</th>\n",
       "      <th>OFFICE</th>\n",
       "      <th>ACRES</th>\n",
       "      <th>LANDS_UID</th>\n",
       "      <th>GREENCERT</th>\n",
       "      <th>UMPURL</th>\n",
       "      <th>SHAPE_AREA</th>\n",
       "      <th>SHAPE_LEN</th>\n",
       "      <th>geometry</th>\n",
       "    </tr>\n",
       "    <tr>\n",
       "      <th>OBJECTID</th>\n",
       "      <th></th>\n",
       "      <th></th>\n",
       "      <th></th>\n",
       "      <th></th>\n",
       "      <th></th>\n",
       "      <th></th>\n",
       "      <th></th>\n",
       "      <th></th>\n",
       "      <th></th>\n",
       "      <th></th>\n",
       "      <th></th>\n",
       "      <th></th>\n",
       "      <th></th>\n",
       "      <th></th>\n",
       "      <th></th>\n",
       "      <th></th>\n",
       "      <th></th>\n",
       "      <th></th>\n",
       "      <th></th>\n",
       "    </tr>\n",
       "  </thead>\n",
       "  <tbody>\n",
       "    <tr>\n",
       "      <th>1</th>\n",
       "      <td>FOR PRES DET PAR</td>\n",
       "      <td>CFP</td>\n",
       "      <td>HANCOCK FP DETACHED PARCEL</td>\n",
       "      <td>WILD FOREST</td>\n",
       "      <td>None</td>\n",
       "      <td>DELAWARE COUNTY DETACHED PARCEL</td>\n",
       "      <td>4</td>\n",
       "      <td>DELAWARE</td>\n",
       "      <td>https://www.dec.ny.gov/lands/7811.html#K_Detac...</td>\n",
       "      <td>DELAWARE RPP</td>\n",
       "      <td>5/12</td>\n",
       "      <td>STAMFORD</td>\n",
       "      <td>738.935321</td>\n",
       "      <td>103</td>\n",
       "      <td>N</td>\n",
       "      <td>None</td>\n",
       "      <td>2.990365e+06</td>\n",
       "      <td>7927.662385</td>\n",
       "      <td>POLYGON ((486093.245 4635308.586, 486787.235 4...</td>\n",
       "    </tr>\n",
       "    <tr>\n",
       "      <th>2</th>\n",
       "      <td>FOR PRES DET PAR</td>\n",
       "      <td>CFP</td>\n",
       "      <td>HANCOCK FP DETACHED PARCEL</td>\n",
       "      <td>WILD FOREST</td>\n",
       "      <td>None</td>\n",
       "      <td>DELAWARE COUNTY DETACHED PARCEL</td>\n",
       "      <td>4</td>\n",
       "      <td>DELAWARE</td>\n",
       "      <td>https://www.dec.ny.gov/lands/7811.html#K_Detac...</td>\n",
       "      <td>DELAWARE RPP</td>\n",
       "      <td>5/12</td>\n",
       "      <td>STAMFORD</td>\n",
       "      <td>282.673690</td>\n",
       "      <td>1218</td>\n",
       "      <td>N</td>\n",
       "      <td>None</td>\n",
       "      <td>1.143940e+06</td>\n",
       "      <td>4776.375600</td>\n",
       "      <td>POLYGON ((491931.514 4637416.256, 491305.424 4...</td>\n",
       "    </tr>\n",
       "    <tr>\n",
       "      <th>3</th>\n",
       "      <td>FOR PRES DET PAR</td>\n",
       "      <td>CFP</td>\n",
       "      <td>HANCOCK FP DETACHED PARCEL</td>\n",
       "      <td>WILD FOREST</td>\n",
       "      <td>None</td>\n",
       "      <td>DELAWARE COUNTY DETACHED PARCEL</td>\n",
       "      <td>4</td>\n",
       "      <td>DELAWARE</td>\n",
       "      <td>https://www.dec.ny.gov/lands/7811.html#K_Detac...</td>\n",
       "      <td>DELAWARE RPP</td>\n",
       "      <td>5/12</td>\n",
       "      <td>STAMFORD</td>\n",
       "      <td>234.391222</td>\n",
       "      <td>1780</td>\n",
       "      <td>N</td>\n",
       "      <td>None</td>\n",
       "      <td>9.485476e+05</td>\n",
       "      <td>5783.070364</td>\n",
       "      <td>POLYGON ((486000.287 4635834.453, 485007.550 4...</td>\n",
       "    </tr>\n",
       "    <tr>\n",
       "      <th>4</th>\n",
       "      <td>FOR PRES DET PAR</td>\n",
       "      <td>CFP</td>\n",
       "      <td>GREENE COUNTY FP DETACHED PARCEL</td>\n",
       "      <td>WILD FOREST</td>\n",
       "      <td>None</td>\n",
       "      <td>None</td>\n",
       "      <td>4</td>\n",
       "      <td>GREENE</td>\n",
       "      <td>https://www.dec.ny.gov/lands/7811.html#K_Detac...</td>\n",
       "      <td>GREENE RPP</td>\n",
       "      <td>5/12</td>\n",
       "      <td>STAMFORD</td>\n",
       "      <td>450.298499</td>\n",
       "      <td>2060</td>\n",
       "      <td>N</td>\n",
       "      <td>None</td>\n",
       "      <td>1.822293e+06</td>\n",
       "      <td>7021.644833</td>\n",
       "      <td>POLYGON ((541716.775 4675243.268, 541217.579 4...</td>\n",
       "    </tr>\n",
       "    <tr>\n",
       "      <th>5</th>\n",
       "      <td>FOR PRES DET PAR</td>\n",
       "      <td>CFP</td>\n",
       "      <td>HANCOCK FP DETACHED PARCEL</td>\n",
       "      <td>WILD FOREST</td>\n",
       "      <td>None</td>\n",
       "      <td>DELAWARE COUNTY DETACHED PARCEL</td>\n",
       "      <td>4</td>\n",
       "      <td>DELAWARE</td>\n",
       "      <td>https://www.dec.ny.gov/lands/7811.html#K_Detac...</td>\n",
       "      <td>DELAWARE RPP, DECRP</td>\n",
       "      <td>9/14</td>\n",
       "      <td>STAMFORD</td>\n",
       "      <td>445.747086</td>\n",
       "      <td>634</td>\n",
       "      <td>N</td>\n",
       "      <td>None</td>\n",
       "      <td>1.803874e+06</td>\n",
       "      <td>7680.636755</td>\n",
       "      <td>POLYGON ((487253.577 4641356.293, 486541.193 4...</td>\n",
       "    </tr>\n",
       "  </tbody>\n",
       "</table>\n",
       "</div>"
      ],
      "text/plain": [
       "                  CATEGORY UNIT                          FACILITY  \\\n",
       "OBJECTID                                                            \n",
       "1         FOR PRES DET PAR  CFP        HANCOCK FP DETACHED PARCEL   \n",
       "2         FOR PRES DET PAR  CFP        HANCOCK FP DETACHED PARCEL   \n",
       "3         FOR PRES DET PAR  CFP        HANCOCK FP DETACHED PARCEL   \n",
       "4         FOR PRES DET PAR  CFP  GREENE COUNTY FP DETACHED PARCEL   \n",
       "5         FOR PRES DET PAR  CFP        HANCOCK FP DETACHED PARCEL   \n",
       "\n",
       "                CLASS   UMP                       DESCRIPTIO  REGION  \\\n",
       "OBJECTID                                                               \n",
       "1         WILD FOREST  None  DELAWARE COUNTY DETACHED PARCEL       4   \n",
       "2         WILD FOREST  None  DELAWARE COUNTY DETACHED PARCEL       4   \n",
       "3         WILD FOREST  None  DELAWARE COUNTY DETACHED PARCEL       4   \n",
       "4         WILD FOREST  None                             None       4   \n",
       "5         WILD FOREST  None  DELAWARE COUNTY DETACHED PARCEL       4   \n",
       "\n",
       "            COUNTY                                                URL  \\\n",
       "OBJECTID                                                                \n",
       "1         DELAWARE  https://www.dec.ny.gov/lands/7811.html#K_Detac...   \n",
       "2         DELAWARE  https://www.dec.ny.gov/lands/7811.html#K_Detac...   \n",
       "3         DELAWARE  https://www.dec.ny.gov/lands/7811.html#K_Detac...   \n",
       "4           GREENE  https://www.dec.ny.gov/lands/7811.html#K_Detac...   \n",
       "5         DELAWARE  https://www.dec.ny.gov/lands/7811.html#K_Detac...   \n",
       "\n",
       "                       SOURCE UPDATE_    OFFICE       ACRES  LANDS_UID  \\\n",
       "OBJECTID                                                                 \n",
       "1                DELAWARE RPP    5/12  STAMFORD  738.935321        103   \n",
       "2                DELAWARE RPP    5/12  STAMFORD  282.673690       1218   \n",
       "3                DELAWARE RPP    5/12  STAMFORD  234.391222       1780   \n",
       "4                  GREENE RPP    5/12  STAMFORD  450.298499       2060   \n",
       "5         DELAWARE RPP, DECRP    9/14  STAMFORD  445.747086        634   \n",
       "\n",
       "         GREENCERT UMPURL    SHAPE_AREA    SHAPE_LEN  \\\n",
       "OBJECTID                                               \n",
       "1                N   None  2.990365e+06  7927.662385   \n",
       "2                N   None  1.143940e+06  4776.375600   \n",
       "3                N   None  9.485476e+05  5783.070364   \n",
       "4                N   None  1.822293e+06  7021.644833   \n",
       "5                N   None  1.803874e+06  7680.636755   \n",
       "\n",
       "                                                   geometry  \n",
       "OBJECTID                                                     \n",
       "1         POLYGON ((486093.245 4635308.586, 486787.235 4...  \n",
       "2         POLYGON ((491931.514 4637416.256, 491305.424 4...  \n",
       "3         POLYGON ((486000.287 4635834.453, 485007.550 4...  \n",
       "4         POLYGON ((541716.775 4675243.268, 541217.579 4...  \n",
       "5         POLYGON ((487253.577 4641356.293, 486541.193 4...  "
      ]
     },
     "execution_count": 3,
     "metadata": {},
     "output_type": "execute_result"
    }
   ],
   "source": [
    "df = gpd.read_file(\"DEClands.shp\").set_index(\"OBJECTID\").sort_index()\n",
    "df.head()\n"
   ]
  },
  {
   "cell_type": "code",
   "execution_count": 4,
   "metadata": {},
   "outputs": [
    {
     "data": {
      "text/plain": [
       "WILD FOREST                   963\n",
       "INTENSIVE USE                 107\n",
       "PRIMITIVE                      63\n",
       "WILDERNESS                     52\n",
       "UNCLASSIFIED                   13\n",
       "HISTORIC                        5\n",
       "PRIMITIVE BICYCLE CORRIDOR      4\n",
       "CANOE AREA                      1\n",
       "Name: CLASS, dtype: int64"
      ]
     },
     "execution_count": 4,
     "metadata": {},
     "output_type": "execute_result"
    }
   ],
   "source": [
    "df.loc[:, 'CLASS'].value_counts()"
   ]
  },
  {
   "cell_type": "code",
   "execution_count": 9,
   "metadata": {},
   "outputs": [
    {
     "data": {
      "text/html": [
       "<div>\n",
       "<style scoped>\n",
       "    .dataframe tbody tr th:only-of-type {\n",
       "        vertical-align: middle;\n",
       "    }\n",
       "\n",
       "    .dataframe tbody tr th {\n",
       "        vertical-align: top;\n",
       "    }\n",
       "\n",
       "    .dataframe thead th {\n",
       "        text-align: right;\n",
       "    }\n",
       "</style>\n",
       "<table border=\"1\" class=\"dataframe\">\n",
       "  <thead>\n",
       "    <tr style=\"text-align: right;\">\n",
       "      <th></th>\n",
       "      <th>CLASS</th>\n",
       "      <th>COUNTY</th>\n",
       "      <th>geometry</th>\n",
       "    </tr>\n",
       "    <tr>\n",
       "      <th>OBJECTID</th>\n",
       "      <th></th>\n",
       "      <th></th>\n",
       "      <th></th>\n",
       "    </tr>\n",
       "  </thead>\n",
       "  <tbody>\n",
       "    <tr>\n",
       "      <th>1</th>\n",
       "      <td>WILD FOREST</td>\n",
       "      <td>DELAWARE</td>\n",
       "      <td>POLYGON ((486093.245 4635308.586, 486787.235 4...</td>\n",
       "    </tr>\n",
       "    <tr>\n",
       "      <th>2</th>\n",
       "      <td>WILD FOREST</td>\n",
       "      <td>DELAWARE</td>\n",
       "      <td>POLYGON ((491931.514 4637416.256, 491305.424 4...</td>\n",
       "    </tr>\n",
       "    <tr>\n",
       "      <th>3</th>\n",
       "      <td>WILD FOREST</td>\n",
       "      <td>DELAWARE</td>\n",
       "      <td>POLYGON ((486000.287 4635834.453, 485007.550 4...</td>\n",
       "    </tr>\n",
       "    <tr>\n",
       "      <th>4</th>\n",
       "      <td>WILD FOREST</td>\n",
       "      <td>GREENE</td>\n",
       "      <td>POLYGON ((541716.775 4675243.268, 541217.579 4...</td>\n",
       "    </tr>\n",
       "    <tr>\n",
       "      <th>5</th>\n",
       "      <td>WILD FOREST</td>\n",
       "      <td>DELAWARE</td>\n",
       "      <td>POLYGON ((487253.577 4641356.293, 486541.193 4...</td>\n",
       "    </tr>\n",
       "  </tbody>\n",
       "</table>\n",
       "</div>"
      ],
      "text/plain": [
       "                CLASS    COUNTY  \\\n",
       "OBJECTID                          \n",
       "1         WILD FOREST  DELAWARE   \n",
       "2         WILD FOREST  DELAWARE   \n",
       "3         WILD FOREST  DELAWARE   \n",
       "4         WILD FOREST    GREENE   \n",
       "5         WILD FOREST  DELAWARE   \n",
       "\n",
       "                                                   geometry  \n",
       "OBJECTID                                                     \n",
       "1         POLYGON ((486093.245 4635308.586, 486787.235 4...  \n",
       "2         POLYGON ((491931.514 4637416.256, 491305.424 4...  \n",
       "3         POLYGON ((486000.287 4635834.453, 485007.550 4...  \n",
       "4         POLYGON ((541716.775 4675243.268, 541217.579 4...  \n",
       "5         POLYGON ((487253.577 4641356.293, 486541.193 4...  "
      ]
     },
     "execution_count": 9,
     "metadata": {},
     "output_type": "execute_result"
    }
   ],
   "source": [
    "# select the important labels\n",
    "\n",
    "data = df.loc[:, ['CLASS', 'COUNTY', 'geometry']].copy()\n",
    "\n",
    "data.head()"
   ]
  },
  {
   "cell_type": "code",
   "execution_count": 6,
   "metadata": {},
   "outputs": [],
   "source": [
    "# rename the column label to lower case\n",
    "\n",
    "# data = data.rename(str.lower, axis='columns')"
   ]
  },
  {
   "cell_type": "code",
   "execution_count": 10,
   "metadata": {},
   "outputs": [],
   "source": [
    "# select land that fall under the \"WILD FOREST\" or \"WILDERNESS\"\n",
    "wild_lands = data.loc[\n",
    "  data.CLASS.isin(\n",
    "    ['WILD FOREST', 'WILDERNESS']\n",
    "    )\n",
    "  ].copy()"
   ]
  },
  {
   "cell_type": "markdown",
   "metadata": {},
   "source": [
    "# Visualization of GIS DATA \n",
    "\n",
    "using the plot method on a GIS formatted data containing the geometry attribute,\n"
   ]
  },
  {
   "cell_type": "code",
   "execution_count": 11,
   "metadata": {},
   "outputs": [
    {
     "data": {
      "text/plain": [
       "<Axes: >"
      ]
     },
     "execution_count": 11,
     "metadata": {},
     "output_type": "execute_result"
    },
    {
     "data": {
      "text/plain": [
       "<Figure size 6500x13000 with 0 Axes>"
      ]
     },
     "metadata": {},
     "output_type": "display_data"
    },
    {
     "data": {
      "image/png": "[encoded data removed]",
      "text/plain": [
       "<Figure size 640x480 with 1 Axes>"
      ]
     },
     "metadata": {},
     "output_type": "display_data"
    }
   ],
   "source": [
    "plt.figure(figsize=(10, 20), dpi=650)\n",
    "\n",
    "wild_lands.plot(legend=True)"
   ]
  },
  {
   "cell_type": "code",
   "execution_count": 24,
   "metadata": {},
   "outputs": [
    {
     "data": {
      "text/plain": [
       "0      False\n",
       "1      False\n",
       "2      False\n",
       "3      False\n",
       "4      False\n",
       "       ...  \n",
       "163    False\n",
       "164    False\n",
       "165    False\n",
       "166    False\n",
       "167    False\n",
       "Name: geometry, Length: 168, dtype: bool"
      ]
     },
     "execution_count": 24,
     "metadata": {},
     "output_type": "execute_result"
    }
   ],
   "source": [
    "# campsites in new york\n",
    "\n",
    "point_data = gpd.read_file(\"../datasets/Decptsofinterest.shp\")\n",
    "campsites = point_data.loc[point_data.ASSET.isin(['PRIMITIVE CAMPSITE'])]\n",
    "\n",
    "# foot trail in NEW YORK\n",
    "\n",
    "point_dat = gpd.read_file('../datasets/gdp_clean.csv')\n"
   ]
  },
  {
   "cell_type": "code",
   "execution_count": 17,
   "metadata": {},
   "outputs": [
    {
     "data": {
      "text/plain": [
       "PRIMITIVE CAMPSITE      1843\n",
       "UNPAVED PARKING LOT     1574\n",
       "LEAN-TO                  320\n",
       "BOAT LAUNCH              162\n",
       "PAVED PARKING LOT         90\n",
       "PICNIC SITE               68\n",
       "SCENIC VISTA              66\n",
       "FIRE TOWER                32\n",
       "PICNIC PAVILION           31\n",
       "PICNIC TABLE              29\n",
       "OBSERVATION PLATFORM      26\n",
       "FISHING PIER              20\n",
       "FISHING PLATFORM          14\n",
       "FISHING ACCESS SITE       12\n",
       "DAY USE AREA              11\n",
       "EQUESTRIAN PLATFORM       11\n",
       "OBSERVATION TOWER          7\n",
       "VISITOR CENTER             1\n",
       "Name: ASSET, dtype: int64"
      ]
     },
     "execution_count": 17,
     "metadata": {},
     "output_type": "execute_result"
    }
   ],
   "source": [
    "# the ASSET column contains the attributes of points (location) in New York\n",
    "\n",
    "point_data.ASSET.value_counts()"
   ]
  },
  {
   "cell_type": "code",
   "execution_count": 20,
   "metadata": {},
   "outputs": [],
   "source": [
    "# select campsites location\n"
   ]
  },
  {
   "cell_type": "code",
   "execution_count": 21,
   "metadata": {},
   "outputs": [
    {
     "data": {
      "text/plain": [
       "<Axes: >"
      ]
     },
     "execution_count": 21,
     "metadata": {},
     "output_type": "execute_result"
    },
    {
     "data": {
      "image/png": "[encoded data removed]",
      "text/plain": [
       "<Figure size 640x480 with 1 Axes>"
      ]
     },
     "metadata": {},
     "output_type": "display_data"
    }
   ],
   "source": [
    "campsites.plot()"
   ]
  }
 ],
 "metadata": {
  "kernelspec": {
   "display_name": "Python 3",
   "language": "python",
   "name": "python3"
  },
  "language_info": {
   "codemirror_mode": {
    "name": "ipython",
    "version": 3
   },
   "file_extension": ".py",
   "mimetype": "text/x-python",
   "name": "python",
   "nbconvert_exporter": "python",
   "pygments_lexer": "ipython3",
   "version": "3.10.12"
  }
 },
 "nbformat": 4,
 "nbformat_minor": 2
}
